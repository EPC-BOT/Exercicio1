{
 "cells": [
  {
   "cell_type": "markdown",
   "metadata": {},
   "source": [
    "O que é Pandas e para que serve?\n",
    "Pandas é uma biblioteca de Python usada para manipulação e análise de dados. Ela fornece estruturas de dados, como DataFrames e Series, para facilitar a importação, limpeza, transformação e análise de dados.\n",
    "\n",
    "O que é NumPy e para que serve?\n",
    "NumPy é uma biblioteca de Python para computação numérica. Ela oferece suporte para arrays e matrizes multidimensionais e funções matemáticas para realizar operações rápidas e eficientes com esses arrays.\n",
    "\n",
    "O que é Scikit-learn e para que serve?\n",
    "Scikit-learn é uma biblioteca de Python para aprendizado de máquina. Ela fornece ferramentas e algoritmos para tarefas como classificação, regressão, clustering, e pré-processamento de dados.\n",
    "\n",
    "Como carregar dados no Pandas?\n",
    "Para carregar dados no Pandas, use funções como:"
   ]
  },
  {
   "cell_type": "code",
   "execution_count": null,
   "metadata": {},
   "outputs": [],
   "source": [
    "import pandas as pd\n",
    "\n",
    "# Carregar dados de um arquivo CSV\n",
    "df = pd.read_csv('caminho/para/seu_arquivo.csv')\n",
    "\n",
    "# Carregar dados de um arquivo Excel\n",
    "df = pd.read_excel('caminho/para/seu_arquivo.xlsx')\n",
    "\n",
    "# Carregar dados de um arquivo JSON\n",
    "df = pd.read_json('caminho/para/seu_arquivo.json')\n"
   ]
  },
  {
   "cell_type": "markdown",
   "metadata": {},
   "source": [
    "Como criar um DataFrame?\n",
    "Um DataFrame pode ser criado a partir de diferentes fontes. Exemplo com um dicionário:"
   ]
  },
  {
   "cell_type": "code",
   "execution_count": null,
   "metadata": {},
   "outputs": [],
   "source": [
    "import pandas as pd\n",
    "\n",
    "data = {\n",
    "    'Coluna1': [1, 2, 3],\n",
    "    'Coluna2': ['A', 'B', 'C']\n",
    "}\n",
    "df = pd.DataFrame(data)\n"
   ]
  },
  {
   "cell_type": "markdown",
   "metadata": {},
   "source": [
    "O que são Series na programação?\n",
    "Series são estruturas de dados unidimensionais no Pandas, semelhantes a vetores ou listas, com rótulos de índice.\n",
    "\n",
    "Como mostrar um cabeçalho e rodapé?\n",
    "Para visualizar o cabeçalho e rodapé de um DataFrame:"
   ]
  },
  {
   "cell_type": "code",
   "execution_count": null,
   "metadata": {},
   "outputs": [],
   "source": [
    "# Mostrar as primeiras 5 linhas (cabeçalho)\n",
    "df.head()\n",
    "\n",
    "# Mostrar as últimas 5 linhas (rodapé)\n",
    "df.tail()\n"
   ]
  },
  {
   "cell_type": "markdown",
   "metadata": {},
   "source": [
    "Como ver a quantidade de entradas no DataFrame?\n",
    "Para obter o número de linhas e colunas:"
   ]
  },
  {
   "cell_type": "code",
   "execution_count": null,
   "metadata": {},
   "outputs": [],
   "source": [
    "num_linhas = df.shape[0]\n",
    "num_colunas = df.shape[1]\n"
   ]
  },
  {
   "cell_type": "markdown",
   "metadata": {},
   "source": [
    "Como retornar a quantidade de linhas e colunas no DataFrame?\n",
    "Utilize o atributo shape:"
   ]
  },
  {
   "cell_type": "code",
   "execution_count": null,
   "metadata": {},
   "outputs": [],
   "source": [
    "num_linhas, num_colunas = df.shape\n"
   ]
  },
  {
   "cell_type": "markdown",
   "metadata": {},
   "source": [
    "Quais são as informações do DataFrame?\n",
    "Para obter um resumo das informações:"
   ]
  },
  {
   "cell_type": "code",
   "execution_count": null,
   "metadata": {},
   "outputs": [],
   "source": [
    "df.info()\n"
   ]
  },
  {
   "cell_type": "markdown",
   "metadata": {},
   "source": [
    "Como criar uma tabela no PowerPoint com Python str?"
   ]
  },
  {
   "cell_type": "code",
   "execution_count": 4,
   "metadata": {},
   "outputs": [
    {
     "data": {
      "text/html": [
       "<div>\n",
       "<style scoped>\n",
       "    .dataframe tbody tr th:only-of-type {\n",
       "        vertical-align: middle;\n",
       "    }\n",
       "\n",
       "    .dataframe tbody tr th {\n",
       "        vertical-align: top;\n",
       "    }\n",
       "\n",
       "    .dataframe thead th {\n",
       "        text-align: right;\n",
       "    }\n",
       "</style>\n",
       "<table border=\"1\" class=\"dataframe\">\n",
       "  <thead>\n",
       "    <tr style=\"text-align: right;\">\n",
       "      <th></th>\n",
       "      <th>Categoria</th>\n",
       "      <th>Excel</th>\n",
       "      <th>MySQL</th>\n",
       "      <th>Pandas</th>\n",
       "      <th>Python</th>\n",
       "    </tr>\n",
       "  </thead>\n",
       "  <tbody>\n",
       "    <tr>\n",
       "      <th>0</th>\n",
       "      <td>Números Inteiros</td>\n",
       "      <td>Número Geral (inteiros)</td>\n",
       "      <td>TINYINT, SMALLINT, MEDIUMINT, INT, BIGINT</td>\n",
       "      <td>int</td>\n",
       "      <td>int</td>\n",
       "    </tr>\n",
       "    <tr>\n",
       "      <th>1</th>\n",
       "      <td>Números de Ponto Flutuante</td>\n",
       "      <td>Número Geral (decimais)</td>\n",
       "      <td>FLOAT, DOUBLE</td>\n",
       "      <td>float</td>\n",
       "      <td>float</td>\n",
       "    </tr>\n",
       "    <tr>\n",
       "      <th>2</th>\n",
       "      <td>Texto</td>\n",
       "      <td>Texto</td>\n",
       "      <td>CHAR, VARCHAR, TEXT, MEDIUMTEXT, LONGTEXT</td>\n",
       "      <td>object, string</td>\n",
       "      <td>str</td>\n",
       "    </tr>\n",
       "    <tr>\n",
       "      <th>3</th>\n",
       "      <td>Data e Hora</td>\n",
       "      <td>Data e Hora</td>\n",
       "      <td>DATE, TIME, DATETIME, TIMESTAMP</td>\n",
       "      <td>datetime64, timedelta</td>\n",
       "      <td>datetime.date, datetime.time, datetime.datetim...</td>\n",
       "    </tr>\n",
       "    <tr>\n",
       "      <th>4</th>\n",
       "      <td>Booleano</td>\n",
       "      <td>Booleano (VERDADEIRO/FALSO)</td>\n",
       "      <td>BOOLEAN, BIT</td>\n",
       "      <td>boolean</td>\n",
       "      <td>bool</td>\n",
       "    </tr>\n",
       "    <tr>\n",
       "      <th>5</th>\n",
       "      <td>Dados Binários</td>\n",
       "      <td>Não suportado diretamente</td>\n",
       "      <td>BLOB, MEDIUMBLOB, LONGBLOB</td>\n",
       "      <td>object (usando bytes)</td>\n",
       "      <td>bytes</td>\n",
       "    </tr>\n",
       "    <tr>\n",
       "      <th>6</th>\n",
       "      <td>Estruturas Compostas</td>\n",
       "      <td>Não suportado diretamente</td>\n",
       "      <td>Não aplicável</td>\n",
       "      <td>DataFrame (tabelas), Series (colunas)</td>\n",
       "      <td>list, tuple, set, dict</td>\n",
       "    </tr>\n",
       "  </tbody>\n",
       "</table>\n",
       "</div>"
      ],
      "text/plain": [
       "                    Categoria                        Excel  \\\n",
       "0            Números Inteiros      Número Geral (inteiros)   \n",
       "1  Números de Ponto Flutuante      Número Geral (decimais)   \n",
       "2                       Texto                        Texto   \n",
       "3                 Data e Hora                  Data e Hora   \n",
       "4                    Booleano  Booleano (VERDADEIRO/FALSO)   \n",
       "5              Dados Binários    Não suportado diretamente   \n",
       "6        Estruturas Compostas    Não suportado diretamente   \n",
       "\n",
       "                                       MySQL  \\\n",
       "0  TINYINT, SMALLINT, MEDIUMINT, INT, BIGINT   \n",
       "1                              FLOAT, DOUBLE   \n",
       "2  CHAR, VARCHAR, TEXT, MEDIUMTEXT, LONGTEXT   \n",
       "3            DATE, TIME, DATETIME, TIMESTAMP   \n",
       "4                               BOOLEAN, BIT   \n",
       "5                 BLOB, MEDIUMBLOB, LONGBLOB   \n",
       "6                              Não aplicável   \n",
       "\n",
       "                                  Pandas  \\\n",
       "0                                    int   \n",
       "1                                  float   \n",
       "2                         object, string   \n",
       "3                  datetime64, timedelta   \n",
       "4                                boolean   \n",
       "5                  object (usando bytes)   \n",
       "6  DataFrame (tabelas), Series (colunas)   \n",
       "\n",
       "                                              Python  \n",
       "0                                                int  \n",
       "1                                              float  \n",
       "2                                                str  \n",
       "3  datetime.date, datetime.time, datetime.datetim...  \n",
       "4                                               bool  \n",
       "5                                              bytes  \n",
       "6                             list, tuple, set, dict  "
      ]
     },
     "execution_count": 4,
     "metadata": {},
     "output_type": "execute_result"
    }
   ],
   "source": [
    "import pandas as pd\n",
    "\n",
    "# Dados para a tabela\n",
    "dados = {\n",
    "    'Categoria': [\n",
    "        'Números Inteiros',\n",
    "        'Números de Ponto Flutuante',\n",
    "        'Texto',\n",
    "        'Data e Hora',\n",
    "        'Booleano',\n",
    "        'Dados Binários',\n",
    "        'Estruturas Compostas'\n",
    "    ],\n",
    "    'Excel': [\n",
    "        'Número Geral (inteiros)',\n",
    "        'Número Geral (decimais)',\n",
    "        'Texto',\n",
    "        'Data e Hora',\n",
    "        'Booleano (VERDADEIRO/FALSO)',\n",
    "        'Não suportado diretamente',\n",
    "        'Não suportado diretamente'\n",
    "    ],\n",
    "    'MySQL': [\n",
    "        'TINYINT, SMALLINT, MEDIUMINT, INT, BIGINT',\n",
    "        'FLOAT, DOUBLE',\n",
    "        'CHAR, VARCHAR, TEXT, MEDIUMTEXT, LONGTEXT',\n",
    "        'DATE, TIME, DATETIME, TIMESTAMP',\n",
    "        'BOOLEAN, BIT',\n",
    "        'BLOB, MEDIUMBLOB, LONGBLOB',\n",
    "        'Não aplicável'\n",
    "    ],\n",
    "    'Pandas': [\n",
    "        'int',\n",
    "        'float',\n",
    "        'object, string',\n",
    "        'datetime64, timedelta',\n",
    "        'boolean',\n",
    "        'object (usando bytes)',\n",
    "        'DataFrame (tabelas), Series (colunas)'\n",
    "    ],\n",
    "    'Python': [\n",
    "        'int',\n",
    "        'float',\n",
    "        'str',\n",
    "        'datetime.date, datetime.time, datetime.datetime, datetime.timedelta',\n",
    "        'bool',\n",
    "        'bytes',\n",
    "        'list, tuple, set, dict'\n",
    "    ]\n",
    "}\n",
    "\n",
    "# Criação do DataFrame\n",
    "df = pd.DataFrame(dados)\n",
    "\n",
    "# Exibição da tabela\n",
    "df\n"
   ]
  },
  {
   "cell_type": "markdown",
   "metadata": {},
   "source": [
    "Como examinar tipos no Pandas?\n",
    "Para verificar os tipos de dados das colunas:"
   ]
  },
  {
   "cell_type": "code",
   "execution_count": null,
   "metadata": {},
   "outputs": [],
   "source": [
    "df.dtypes\n"
   ]
  },
  {
   "cell_type": "markdown",
   "metadata": {},
   "source": [
    "O que é describe na programação?\n",
    "describe() fornece um resumo estatístico das colunas numéricas de um DataFrame, incluindo contagem, média, desvio padrão, valores mínimo e máximo, e percentis:"
   ]
  },
  {
   "cell_type": "code",
   "execution_count": null,
   "metadata": {},
   "outputs": [],
   "source": [
    "df.describe()\n"
   ]
  },
  {
   "cell_type": "markdown",
   "metadata": {},
   "source": [
    "Como acessar apenas uma coluna?\n",
    "Para acessar uma coluna específica:"
   ]
  },
  {
   "cell_type": "code",
   "execution_count": null,
   "metadata": {},
   "outputs": [],
   "source": [
    "df['Nome_da_Coluna']\n"
   ]
  },
  {
   "cell_type": "markdown",
   "metadata": {},
   "source": [
    "Como fatiar um DataFrame?\n",
    "Para fatiar um DataFrame, utilize a indexação e iloc:"
   ]
  },
  {
   "cell_type": "code",
   "execution_count": null,
   "metadata": {},
   "outputs": [],
   "source": [
    "# Selecionar linhas específicas\n",
    "df.iloc[0:5]  # Primeiras 5 linhas\n",
    "\n",
    "# Selecionar linhas e colunas específicas\n",
    "df.iloc[0:5, 0:2]  # Primeiras 5 linhas e 2 primeiras colunas\n"
   ]
  },
  {
   "cell_type": "markdown",
   "metadata": {},
   "source": [
    "O que é IA (Inteligência Artificial)?\n",
    "IA (Inteligência Artificial) é o campo da ciência da computação dedicado a criar sistemas que realizam tarefas que normalmente requerem inteligência humana, como reconhecimento de fala e tomada de decisão.\n",
    "\n",
    "O que é Machine Learning (Aprendizado de Máquina)?\n",
    "Machine Learning é um subcampo da IA que desenvolve algoritmos e modelos que permitem que os sistemas aprendam e façam previsões com base em dados.\n",
    "\n",
    "O que é Deep Learning (Aprendizado Profundo)?\n",
    "Deep Learning é uma subárea de Machine Learning que usa redes neurais profundas para modelar e resolver problemas complexos, como reconhecimento de imagem e processamento de linguagem natural.\n",
    "\n",
    "Quais problemas a IA pode resolver?\n",
    "IA pode ajudar a resolver problemas em áreas como:\n",
    "\n",
    "Diagnóstico médico\n",
    "Reconhecimento de voz e imagem\n",
    "Tradução automática\n",
    "Análise preditiva\n",
    "Automação de processos\n",
    "Comente sobre funções LOC e ILOC\n"
   ]
  },
  {
   "cell_type": "markdown",
   "metadata": {},
   "source": [
    "loc[ ]: Acessa linhas e colunas por rótulos de índice."
   ]
  },
  {
   "cell_type": "code",
   "execution_count": null,
   "metadata": {},
   "outputs": [],
   "source": [
    "df.loc[0:5, 'Nome_da_Coluna']\n"
   ]
  },
  {
   "cell_type": "markdown",
   "metadata": {},
   "source": [
    "iloc[ ]: Acessa linhas e colunas por índices inteiros"
   ]
  },
  {
   "cell_type": "code",
   "execution_count": null,
   "metadata": {},
   "outputs": [],
   "source": [
    "df.iloc[0:5, 0:2]\n"
   ]
  },
  {
   "cell_type": "markdown",
   "metadata": {},
   "source": [
    "Como limpar dados NaN (ausentes)?\n",
    "Para limpar dados ausentes, você pode:\n",
    "\n"
   ]
  },
  {
   "cell_type": "markdown",
   "metadata": {},
   "source": [
    "Remover linhas com valores ausentes:"
   ]
  },
  {
   "cell_type": "code",
   "execution_count": null,
   "metadata": {},
   "outputs": [],
   "source": [
    "df.dropna()\n"
   ]
  },
  {
   "cell_type": "markdown",
   "metadata": {},
   "source": [
    "Preencher valores ausentes com um valor específico:"
   ]
  },
  {
   "cell_type": "code",
   "execution_count": null,
   "metadata": {},
   "outputs": [],
   "source": [
    "df.fillna(valor)\n"
   ]
  }
 ],
 "metadata": {
  "kernelspec": {
   "display_name": ".venv",
   "language": "python",
   "name": "python3"
  },
  "language_info": {
   "codemirror_mode": {
    "name": "ipython",
    "version": 3
   },
   "file_extension": ".py",
   "mimetype": "text/x-python",
   "name": "python",
   "nbconvert_exporter": "python",
   "pygments_lexer": "ipython3",
   "version": "3.12.4"
  }
 },
 "nbformat": 4,
 "nbformat_minor": 2
}
